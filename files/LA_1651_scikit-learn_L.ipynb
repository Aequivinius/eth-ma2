{
 "cells": [
  {
   "cell_type": "markdown",
   "id": "5a467093",
   "metadata": {},
   "source": [
    "# LA_1651\n",
    "\n",
    "Nachdem Sie in der `LA_1650` gesehen haben, wie eine ML-*pipeline* im einfachsten Fall aussehen kann, gehen wir nun in diesem größeren Auftrag einen Schritt weiter, und versuchen, einen weniger vorgetretenen Pfad zu begehen: Statt des vorbereiteten Iris-Datensatzes versuchen wir nun, ein Modell für unseren Titanic-Datensatz zu erstellen, und können somit auf einige Feinheiten eingehen!\n",
    "\n",
    "⚠️ In diesem Auftrag müssen Sie viel [recherchieren](https://scikit-learn.org/stable/user_guide.html) und in den vorhergegangenen Aufträgen nachlesen, welche Funktionen wie heissen und welche Parameter diese haben - lassen Sie sich nicht frustrieren, *that's part of the job!* und mit etwas Übung wird es Ihnen in Zukunft leichter fallen, schnell an die wichtigen Informationen zu kommen. Ansonsten läuft dieser Auftrag aber wie in den bisherigen Notizbüchern ab - füllen Sie die Teile ein, die mit `# 👾 TODO` markiert sind."
   ]
  },
  {
   "cell_type": "markdown",
   "id": "7ef47f3e",
   "metadata": {},
   "source": [
    "## Teil 1: Laden der Daten\n",
    "\n",
    "Im `LA_1650` konnten wir den Iris-Datensatz direkt durch `sklearn` importieren; dieser [Spielzeug-Datensatz](https://scikit-learn.org/stable/datasets/toy_dataset.html) wird mitgeliefert. Aber natürlich können Sie nicht Ihre ML-Karriere nur auf mitgelieferten Datensätzen aufbauen, darum geht es in diesem ersten Schritt darum, wie Sie andere Datensätze für `sklearn` zugänglich machen. Glücklicherweise ist `sklearn` weitgehend mit `pandas` kompatibel, und so können Sie den Titanic-Datensatz laden, wie Sie es sich gewohnt sind!"
   ]
  },
  {
   "cell_type": "code",
   "execution_count": 238,
   "id": "1732e224",
   "metadata": {},
   "outputs": [
    {
     "data": {
      "text/html": [
       "<div>\n",
       "<style scoped>\n",
       "    .dataframe tbody tr th:only-of-type {\n",
       "        vertical-align: middle;\n",
       "    }\n",
       "\n",
       "    .dataframe tbody tr th {\n",
       "        vertical-align: top;\n",
       "    }\n",
       "\n",
       "    .dataframe thead th {\n",
       "        text-align: right;\n",
       "    }\n",
       "</style>\n",
       "<table border=\"1\" class=\"dataframe\">\n",
       "  <thead>\n",
       "    <tr style=\"text-align: right;\">\n",
       "      <th></th>\n",
       "      <th>passenger_id</th>\n",
       "      <th>pclass</th>\n",
       "      <th>name</th>\n",
       "      <th>sex</th>\n",
       "      <th>age</th>\n",
       "      <th>sibsp</th>\n",
       "      <th>parch</th>\n",
       "      <th>ticket</th>\n",
       "      <th>fare</th>\n",
       "      <th>cabin</th>\n",
       "      <th>embarked</th>\n",
       "      <th>boat</th>\n",
       "      <th>body</th>\n",
       "      <th>home.dest</th>\n",
       "      <th>survived</th>\n",
       "    </tr>\n",
       "  </thead>\n",
       "  <tbody>\n",
       "    <tr>\n",
       "      <th>0</th>\n",
       "      <td>1216</td>\n",
       "      <td>3</td>\n",
       "      <td>Smyth, Miss. Julia</td>\n",
       "      <td>female</td>\n",
       "      <td>NaN</td>\n",
       "      <td>0</td>\n",
       "      <td>0</td>\n",
       "      <td>335432</td>\n",
       "      <td>7.7333</td>\n",
       "      <td>NaN</td>\n",
       "      <td>Q</td>\n",
       "      <td>13</td>\n",
       "      <td>NaN</td>\n",
       "      <td>NaN</td>\n",
       "      <td>1</td>\n",
       "    </tr>\n",
       "    <tr>\n",
       "      <th>1</th>\n",
       "      <td>699</td>\n",
       "      <td>3</td>\n",
       "      <td>Cacic, Mr. Luka</td>\n",
       "      <td>male</td>\n",
       "      <td>38.0</td>\n",
       "      <td>0</td>\n",
       "      <td>0</td>\n",
       "      <td>315089</td>\n",
       "      <td>8.6625</td>\n",
       "      <td>NaN</td>\n",
       "      <td>S</td>\n",
       "      <td>NaN</td>\n",
       "      <td>NaN</td>\n",
       "      <td>Croatia</td>\n",
       "      <td>0</td>\n",
       "    </tr>\n",
       "    <tr>\n",
       "      <th>2</th>\n",
       "      <td>1267</td>\n",
       "      <td>3</td>\n",
       "      <td>Van Impe, Mrs. Jean Baptiste (Rosalie Paula Go...</td>\n",
       "      <td>female</td>\n",
       "      <td>30.0</td>\n",
       "      <td>1</td>\n",
       "      <td>1</td>\n",
       "      <td>345773</td>\n",
       "      <td>24.1500</td>\n",
       "      <td>NaN</td>\n",
       "      <td>S</td>\n",
       "      <td>NaN</td>\n",
       "      <td>NaN</td>\n",
       "      <td>NaN</td>\n",
       "      <td>0</td>\n",
       "    </tr>\n",
       "    <tr>\n",
       "      <th>3</th>\n",
       "      <td>449</td>\n",
       "      <td>2</td>\n",
       "      <td>Hocking, Mrs. Elizabeth (Eliza Needs)</td>\n",
       "      <td>female</td>\n",
       "      <td>54.0</td>\n",
       "      <td>1</td>\n",
       "      <td>3</td>\n",
       "      <td>29105</td>\n",
       "      <td>23.0000</td>\n",
       "      <td>NaN</td>\n",
       "      <td>S</td>\n",
       "      <td>4</td>\n",
       "      <td>NaN</td>\n",
       "      <td>Cornwall / Akron, OH</td>\n",
       "      <td>1</td>\n",
       "    </tr>\n",
       "    <tr>\n",
       "      <th>4</th>\n",
       "      <td>576</td>\n",
       "      <td>2</td>\n",
       "      <td>Veal, Mr. James</td>\n",
       "      <td>male</td>\n",
       "      <td>40.0</td>\n",
       "      <td>0</td>\n",
       "      <td>0</td>\n",
       "      <td>28221</td>\n",
       "      <td>13.0000</td>\n",
       "      <td>NaN</td>\n",
       "      <td>S</td>\n",
       "      <td>NaN</td>\n",
       "      <td>NaN</td>\n",
       "      <td>Barre, Co Washington, VT</td>\n",
       "      <td>0</td>\n",
       "    </tr>\n",
       "  </tbody>\n",
       "</table>\n",
       "</div>"
      ],
      "text/plain": [
       "   passenger_id  pclass                                               name  \\\n",
       "0          1216       3                                 Smyth, Miss. Julia   \n",
       "1           699       3                                    Cacic, Mr. Luka   \n",
       "2          1267       3  Van Impe, Mrs. Jean Baptiste (Rosalie Paula Go...   \n",
       "3           449       2              Hocking, Mrs. Elizabeth (Eliza Needs)   \n",
       "4           576       2                                    Veal, Mr. James   \n",
       "\n",
       "      sex   age  sibsp  parch  ticket     fare cabin embarked boat  body  \\\n",
       "0  female   NaN      0      0  335432   7.7333   NaN        Q   13   NaN   \n",
       "1    male  38.0      0      0  315089   8.6625   NaN        S  NaN   NaN   \n",
       "2  female  30.0      1      1  345773  24.1500   NaN        S  NaN   NaN   \n",
       "3  female  54.0      1      3   29105  23.0000   NaN        S    4   NaN   \n",
       "4    male  40.0      0      0   28221  13.0000   NaN        S  NaN   NaN   \n",
       "\n",
       "                  home.dest  survived  \n",
       "0                       NaN         1  \n",
       "1                   Croatia         0  \n",
       "2                       NaN         0  \n",
       "3      Cornwall / Akron, OH         1  \n",
       "4  Barre, Co Washington, VT         0  "
      ]
     },
     "execution_count": 238,
     "metadata": {},
     "output_type": "execute_result"
    }
   ],
   "source": [
    "# 👾 TODO: Load the titanic_train data set into a pandas DataFrame\n",
    "import pandas as pd\n",
    "import os\n",
    "path = os.path.join(\"titanic-dataset\",\"titanic_train.csv\")\n",
    "titanics = pd.read_csv(path)\n",
    "titanics.head()"
   ]
  },
  {
   "cell_type": "markdown",
   "id": "f80017c6",
   "metadata": {},
   "source": [
    "## Teil 2: Bestimmen von *features* und *targets*\n",
    "\n",
    "Es ist die Frage ein wenig Ihnen überlassen: Ausgelegt ist der Datensatz natürlich, vorherzusagen, ob jemand überlebt hat oder nicht, ob von welchen Faktoren diese am stärksten abhängt. Aber Sie könnten natürlich auch andere Dinge versuchen vorherzusagen (Ticketpreis abhängig von Alter?). In jedem Fall müssen Sie aber die Daten nun aufteilen, sodass Sie ein `DataFrame` namens `X` haben, in welchem sich die *features* befinden; und ein `y` mit den *targets*, die Sie vorhersagen möchten. Suchen Sie also interessante *features* (in diesem Fall: `pclass`, `age`, `sex`, `fare`, `embarked`, `party_size`), auf denen Ihre Analyse aufbaut, und teilen Sie die ursprüngliche `DataFrame` anhand der ausgesuchten Spalten auf.\n",
    "\n",
    "Hier ist auch ein guter Punkt, an dem Sie *feature engineering* betreiben, also das Erstellen neuer Spalten, welche Informationen auf eine besonders nützliche Art darstellen. Sie können hier gut das Beispiel mit der `PartySize` aus der `LA_1618` übernehmen."
   ]
  },
  {
   "cell_type": "code",
   "execution_count": 239,
   "id": "72e97692",
   "metadata": {},
   "outputs": [
    {
     "data": {
      "text/html": [
       "<div>\n",
       "<style scoped>\n",
       "    .dataframe tbody tr th:only-of-type {\n",
       "        vertical-align: middle;\n",
       "    }\n",
       "\n",
       "    .dataframe tbody tr th {\n",
       "        vertical-align: top;\n",
       "    }\n",
       "\n",
       "    .dataframe thead th {\n",
       "        text-align: right;\n",
       "    }\n",
       "</style>\n",
       "<table border=\"1\" class=\"dataframe\">\n",
       "  <thead>\n",
       "    <tr style=\"text-align: right;\">\n",
       "      <th></th>\n",
       "      <th>pclass</th>\n",
       "      <th>age</th>\n",
       "      <th>sex</th>\n",
       "      <th>fare</th>\n",
       "      <th>embarked</th>\n",
       "      <th>party_size</th>\n",
       "    </tr>\n",
       "  </thead>\n",
       "  <tbody>\n",
       "    <tr>\n",
       "      <th>0</th>\n",
       "      <td>3</td>\n",
       "      <td>NaN</td>\n",
       "      <td>female</td>\n",
       "      <td>7.7333</td>\n",
       "      <td>Q</td>\n",
       "      <td>1</td>\n",
       "    </tr>\n",
       "    <tr>\n",
       "      <th>1</th>\n",
       "      <td>3</td>\n",
       "      <td>38.0</td>\n",
       "      <td>male</td>\n",
       "      <td>8.6625</td>\n",
       "      <td>S</td>\n",
       "      <td>1</td>\n",
       "    </tr>\n",
       "    <tr>\n",
       "      <th>2</th>\n",
       "      <td>3</td>\n",
       "      <td>30.0</td>\n",
       "      <td>female</td>\n",
       "      <td>24.1500</td>\n",
       "      <td>S</td>\n",
       "      <td>3</td>\n",
       "    </tr>\n",
       "    <tr>\n",
       "      <th>3</th>\n",
       "      <td>2</td>\n",
       "      <td>54.0</td>\n",
       "      <td>female</td>\n",
       "      <td>23.0000</td>\n",
       "      <td>S</td>\n",
       "      <td>5</td>\n",
       "    </tr>\n",
       "    <tr>\n",
       "      <th>4</th>\n",
       "      <td>2</td>\n",
       "      <td>40.0</td>\n",
       "      <td>male</td>\n",
       "      <td>13.0000</td>\n",
       "      <td>S</td>\n",
       "      <td>1</td>\n",
       "    </tr>\n",
       "  </tbody>\n",
       "</table>\n",
       "</div>"
      ],
      "text/plain": [
       "   pclass   age     sex     fare embarked  party_size\n",
       "0       3   NaN  female   7.7333        Q           1\n",
       "1       3  38.0    male   8.6625        S           1\n",
       "2       3  30.0  female  24.1500        S           3\n",
       "3       2  54.0  female  23.0000        S           5\n",
       "4       2  40.0    male  13.0000        S           1"
      ]
     },
     "execution_count": 239,
     "metadata": {},
     "output_type": "execute_result"
    }
   ],
   "source": [
    "# 👾 TODO: Split the titanic data into suitable X and y variables\n",
    "titanics[\"party_size\"] = titanics[\"sibsp\"] + titanics[\"parch\"] + 1\n",
    "X = titanics[[\"pclass\", \"age\", \"sex\", \"fare\", \"embarked\", \"party_size\"]]\n",
    "y = titanics[[\"survived\"]]\n",
    "X.head()"
   ]
  },
  {
   "cell_type": "markdown",
   "id": "6f208b0a",
   "metadata": {},
   "source": [
    "## Teil 3: *preprocessing*\n",
    "\n",
    "Gehen wir davon aus, dass Sie `age`, `sex` und `fare` gewählt haben. Dies Werte dieser Spalten können Sie nicht einfach *tel quel* verwenden, sondern diese Bedürfen des *preprocessing*. Zunächst müssen Sie sich überlegen, wie Sie mit fehlenden Werten umgehen - was soll der Algorithmus tun, wenn er eine Zahl erwartet, und stattdessen ein `NaN` liest? Sie könnten einfach alle Zeilen mittels `.dropna()` löschen, welche irgendwo `NaN` beinhalten:"
   ]
  },
  {
   "cell_type": "code",
   "execution_count": 240,
   "id": "6ff9cda3",
   "metadata": {
    "scrolled": true
   },
   "outputs": [
    {
     "data": {
      "text/plain": [
       "176"
      ]
     },
     "execution_count": 240,
     "metadata": {},
     "output_type": "execute_result"
    }
   ],
   "source": [
    "# This code shows you how many rows contain NaN values\n",
    "len(X[X.isna().any(axis=1)])"
   ]
  },
  {
   "cell_type": "markdown",
   "id": "bb44e333",
   "metadata": {},
   "source": [
    "Das sind fast 20% unserer Daten, die wir löschen würden - das ist zuviel! Besser also, wir überlegen uns eine schlauere Lösung: Lesen Sie in der [Dokumentation unter 6.4.2](https://scikit-learn.org/stable/modules/impute.html#univariate-feature-imputation) nach, wie Sie `NaN`-Werte durch den Modus ersetzen, und füllen Sie so fehlende Werte auf! Beachten Sie dabei:\n",
    "\n",
    "* Sie müssen `numpy` importieren, damit Sie `np.nan` verwenden können\n",
    "* Die `transform`-Funkion gibt Ihnen statt eine `DataFrame` ein einfaches Array zurück, welches Sie wieder zurück-konvertieren müssen"
   ]
  },
  {
   "cell_type": "code",
   "execution_count": 241,
   "id": "04cc62a7",
   "metadata": {},
   "outputs": [
    {
     "data": {
      "text/plain": [
       "0"
      ]
     },
     "execution_count": 241,
     "metadata": {},
     "output_type": "execute_result"
    }
   ],
   "source": [
    "# 👾 TODO: Fill NaNs with modes\n",
    "from sklearn.impute import SimpleImputer\n",
    "import numpy as np\n",
    "si = SimpleImputer(missing_values=np.nan, strategy='most_frequent')\n",
    "si.fit(X)\n",
    "X_ = si.transform(X)\n",
    "X = pd.DataFrame(X_, columns=X.columns)\n",
    "len(X[X.isna().any(axis=1)])"
   ]
  },
  {
   "cell_type": "markdown",
   "id": "b34d026e",
   "metadata": {},
   "source": [
    "Gehen wir einen Schritt weiter - ML-Algorithmen schätzen als `string` dargestellte kategorische Daten nicht (sehen Sie ggf. in der `PR_1604_Datentypen` nach), weshalb wir diese ersetzen müssen. Statt `male` soll also jeweils `0`, und statt `female` jeweils `1` stehen - aber wir wollen das natürlich nicht von Hand umsetzen, sondern verwenden einen `OrdinalEncoder`, welcher das für uns übernimmt: Lesen Sie hierfür zunächst das [Kapitel 6.3.4](https://scikit-learn.org/stable/modules/preprocessing.html#encoding-categorical-features). Den dort auch erwähnten `OneHotEncoder` können Sie gleich verwenden, um die `embarked`-Spalte zu enkodieren!"
   ]
  },
  {
   "cell_type": "code",
   "execution_count": 242,
   "id": "b2d34b5e",
   "metadata": {},
   "outputs": [
    {
     "data": {
      "text/html": [
       "<div>\n",
       "<style scoped>\n",
       "    .dataframe tbody tr th:only-of-type {\n",
       "        vertical-align: middle;\n",
       "    }\n",
       "\n",
       "    .dataframe tbody tr th {\n",
       "        vertical-align: top;\n",
       "    }\n",
       "\n",
       "    .dataframe thead th {\n",
       "        text-align: right;\n",
       "    }\n",
       "</style>\n",
       "<table border=\"1\" class=\"dataframe\">\n",
       "  <thead>\n",
       "    <tr style=\"text-align: right;\">\n",
       "      <th></th>\n",
       "      <th>pclass</th>\n",
       "      <th>age</th>\n",
       "      <th>sex</th>\n",
       "      <th>fare</th>\n",
       "      <th>party_size</th>\n",
       "      <th>London</th>\n",
       "      <th>Queenstown</th>\n",
       "      <th>Southampton</th>\n",
       "    </tr>\n",
       "  </thead>\n",
       "  <tbody>\n",
       "    <tr>\n",
       "      <th>0</th>\n",
       "      <td>3</td>\n",
       "      <td>18.0</td>\n",
       "      <td>0.0</td>\n",
       "      <td>7.7333</td>\n",
       "      <td>1</td>\n",
       "      <td>0.0</td>\n",
       "      <td>1.0</td>\n",
       "      <td>0.0</td>\n",
       "    </tr>\n",
       "    <tr>\n",
       "      <th>1</th>\n",
       "      <td>3</td>\n",
       "      <td>38.0</td>\n",
       "      <td>1.0</td>\n",
       "      <td>8.6625</td>\n",
       "      <td>1</td>\n",
       "      <td>0.0</td>\n",
       "      <td>0.0</td>\n",
       "      <td>1.0</td>\n",
       "    </tr>\n",
       "    <tr>\n",
       "      <th>2</th>\n",
       "      <td>3</td>\n",
       "      <td>30.0</td>\n",
       "      <td>0.0</td>\n",
       "      <td>24.15</td>\n",
       "      <td>3</td>\n",
       "      <td>0.0</td>\n",
       "      <td>0.0</td>\n",
       "      <td>1.0</td>\n",
       "    </tr>\n",
       "    <tr>\n",
       "      <th>3</th>\n",
       "      <td>2</td>\n",
       "      <td>54.0</td>\n",
       "      <td>0.0</td>\n",
       "      <td>23.0</td>\n",
       "      <td>5</td>\n",
       "      <td>0.0</td>\n",
       "      <td>0.0</td>\n",
       "      <td>1.0</td>\n",
       "    </tr>\n",
       "    <tr>\n",
       "      <th>4</th>\n",
       "      <td>2</td>\n",
       "      <td>40.0</td>\n",
       "      <td>1.0</td>\n",
       "      <td>13.0</td>\n",
       "      <td>1</td>\n",
       "      <td>0.0</td>\n",
       "      <td>0.0</td>\n",
       "      <td>1.0</td>\n",
       "    </tr>\n",
       "  </tbody>\n",
       "</table>\n",
       "</div>"
      ],
      "text/plain": [
       "  pclass   age  sex    fare party_size  London  Queenstown  Southampton\n",
       "0      3  18.0  0.0  7.7333          1     0.0         1.0          0.0\n",
       "1      3  38.0  1.0  8.6625          1     0.0         0.0          1.0\n",
       "2      3  30.0  0.0   24.15          3     0.0         0.0          1.0\n",
       "3      2  54.0  0.0    23.0          5     0.0         0.0          1.0\n",
       "4      2  40.0  1.0    13.0          1     0.0         0.0          1.0"
      ]
     },
     "execution_count": 242,
     "metadata": {},
     "output_type": "execute_result"
    }
   ],
   "source": [
    "# 👾 TODO: Use OrdinalEncoder for the sex-column, \n",
    "# and the OneHotEncoder for the embarked-column\n",
    "# Make sure you don't apply one of them to the whole\n",
    "# dataframe, but on individual columns only!\n",
    "from sklearn import preprocessing\n",
    "oe = preprocessing.OrdinalEncoder().fit(X[[\"sex\"]])\n",
    "X[[\"sex\"]] = oe.transform(X[[\"sex\"]])\n",
    "\n",
    "ohe = preprocessing.OneHotEncoder().fit(X[[\"embarked\"]])\n",
    "embarks = ohe.transform(X[[\"embarked\"]]).toarray()\n",
    "embarks = pd.DataFrame(embarks, columns=[\"London\", \"Queenstown\", \"Southampton\"])\n",
    "X = pd.concat([X, embarks], axis=1)\n",
    "X.drop([\"embarked\"],  axis=1, inplace=True)\n",
    "X.head()"
   ]
  },
  {
   "cell_type": "markdown",
   "id": "20822892",
   "metadata": {},
   "source": [
    "Zum Abschluss dieses Teils, und zur Repetition, werden die `age`- und `fare`-Werte normalisiert - Sie können hierzu entweder den `MinMaxScaler` verwenden, den Sie aus der `LA_1650` kennen, oder sich am [`StandardScaler`](https://scikit-learn.org/stable/modules/preprocessing.html#standardization-or-mean-removal-and-variance-scaling) versuchen. Letzter grenzt die Werte nicht auf zwischen 0 und 1 ein, sondern berechnet die Werte so, dass deren Mittel bei 0 liegt und ihre Varianz bei 1.\n",
    "\n",
    "Zunächst muss unser `standard_scaler` allerdings berechnen, was das Mittel und die Varianz sind. Dann können wir ihn verwenden, um sowohl unsere `X`-Daten wie auch am Ende neue Daten, für die wir eine Vorhersage treffen möchten, konsistenz zu skalieren."
   ]
  },
  {
   "cell_type": "code",
   "execution_count": 243,
   "id": "9adefbf7",
   "metadata": {},
   "outputs": [
    {
     "data": {
      "text/html": [
       "<div>\n",
       "<style scoped>\n",
       "    .dataframe tbody tr th:only-of-type {\n",
       "        vertical-align: middle;\n",
       "    }\n",
       "\n",
       "    .dataframe tbody tr th {\n",
       "        vertical-align: top;\n",
       "    }\n",
       "\n",
       "    .dataframe thead th {\n",
       "        text-align: right;\n",
       "    }\n",
       "</style>\n",
       "<table border=\"1\" class=\"dataframe\">\n",
       "  <thead>\n",
       "    <tr style=\"text-align: right;\">\n",
       "      <th></th>\n",
       "      <th>pclass</th>\n",
       "      <th>age</th>\n",
       "      <th>sex</th>\n",
       "      <th>fare</th>\n",
       "      <th>party_size</th>\n",
       "      <th>London</th>\n",
       "      <th>Queenstown</th>\n",
       "      <th>Southampton</th>\n",
       "    </tr>\n",
       "  </thead>\n",
       "  <tbody>\n",
       "    <tr>\n",
       "      <th>0</th>\n",
       "      <td>3</td>\n",
       "      <td>-0.664649</td>\n",
       "      <td>0.0</td>\n",
       "      <td>-0.489393</td>\n",
       "      <td>1</td>\n",
       "      <td>0.0</td>\n",
       "      <td>1.0</td>\n",
       "      <td>0.0</td>\n",
       "    </tr>\n",
       "    <tr>\n",
       "      <th>1</th>\n",
       "      <td>3</td>\n",
       "      <td>0.786286</td>\n",
       "      <td>1.0</td>\n",
       "      <td>-0.472073</td>\n",
       "      <td>1</td>\n",
       "      <td>0.0</td>\n",
       "      <td>0.0</td>\n",
       "      <td>1.0</td>\n",
       "    </tr>\n",
       "    <tr>\n",
       "      <th>2</th>\n",
       "      <td>3</td>\n",
       "      <td>0.205912</td>\n",
       "      <td>0.0</td>\n",
       "      <td>-0.183382</td>\n",
       "      <td>3</td>\n",
       "      <td>0.0</td>\n",
       "      <td>0.0</td>\n",
       "      <td>1.0</td>\n",
       "    </tr>\n",
       "    <tr>\n",
       "      <th>3</th>\n",
       "      <td>2</td>\n",
       "      <td>1.947034</td>\n",
       "      <td>0.0</td>\n",
       "      <td>-0.204819</td>\n",
       "      <td>5</td>\n",
       "      <td>0.0</td>\n",
       "      <td>0.0</td>\n",
       "      <td>1.0</td>\n",
       "    </tr>\n",
       "    <tr>\n",
       "      <th>4</th>\n",
       "      <td>2</td>\n",
       "      <td>0.931379</td>\n",
       "      <td>1.0</td>\n",
       "      <td>-0.391221</td>\n",
       "      <td>1</td>\n",
       "      <td>0.0</td>\n",
       "      <td>0.0</td>\n",
       "      <td>1.0</td>\n",
       "    </tr>\n",
       "  </tbody>\n",
       "</table>\n",
       "</div>"
      ],
      "text/plain": [
       "  pclass       age  sex      fare party_size  London  Queenstown  Southampton\n",
       "0      3 -0.664649  0.0 -0.489393          1     0.0         1.0          0.0\n",
       "1      3  0.786286  1.0 -0.472073          1     0.0         0.0          1.0\n",
       "2      3  0.205912  0.0 -0.183382          3     0.0         0.0          1.0\n",
       "3      2  1.947034  0.0 -0.204819          5     0.0         0.0          1.0\n",
       "4      2  0.931379  1.0 -0.391221          1     0.0         0.0          1.0"
      ]
     },
     "execution_count": 243,
     "metadata": {},
     "output_type": "execute_result"
    }
   ],
   "source": [
    "standard_scaler = preprocessing.StandardScaler().fit(X[[\"age\", \"fare\"]])\n",
    "\n",
    "def scale(dataframe, columns, scaler):\n",
    "    scaled = scaler.transform(dataframe[columns])\n",
    "    dataframe[columns] = pd.DataFrame(scaled, columns=columns)\n",
    "    return dataframe\n",
    "\n",
    "X = scale(X, [\"age\", \"fare\"], standard_scaler)\n",
    "X.head()"
   ]
  },
  {
   "cell_type": "markdown",
   "id": "0a542116",
   "metadata": {},
   "source": [
    "## Teil 4: *test-train-split*\n",
    "\n",
    "Dieser Teil wird Ihnen dank `pandas` sehr einfach gemacht. Teilen Sie Ihre `X` und `y` in `train_X`, `train_y`, `test_X` und `test_y` ein, und zwar so, dass 20% der Daten zum Testen verwendet werden."
   ]
  },
  {
   "cell_type": "code",
   "execution_count": 244,
   "id": "6123acfb",
   "metadata": {},
   "outputs": [
    {
     "data": {
      "text/plain": [
       "(680, 170)"
      ]
     },
     "execution_count": 244,
     "metadata": {},
     "output_type": "execute_result"
    }
   ],
   "source": [
    "# 👾 TODO: Split the titanic data into suitable test and train sets\n",
    "from sklearn.model_selection import train_test_split\n",
    "\n",
    "X_train, X_test, y_train, y_test = train_test_split(\n",
    "   X, y, test_size = 0.2, random_state = 42\n",
    ")\n",
    "\n",
    "len(X_train), len(X_test)"
   ]
  },
  {
   "cell_type": "markdown",
   "id": "b008d177",
   "metadata": {},
   "source": [
    "## Teil 5: Algorithmuswahl\n",
    "\n",
    "*Often the hardest part of solving a machine learning problem can be finding the right estimator for the job.*, wobei mit *estimator* hier der Algorithmus gemeint ist. Es gibt nicht eine zwingende Zuordnung à la *der Algorithmus XYZ ist immer der Beste*, sondern die Wahl hängt von Ihrem Problem, Ihren Daten, Ihren verfügbaren Ressourcen und Ihrer Erfahrung im *parameter tuning* ab. Wir greifen hier bereits etwas vor und zeigen Ihnen eine beliebte Technik, um einen passenden Algorithmus zu finden; und gehen im Anschluß auf diesen Auftrag auf einige verwandte Themen vertieft ein.\n",
    "\n",
    "Diese Technik, die auch bei Geübteren oft zum Einsatz kommt, ist es, eine Batterie von Algorithmen als Kandidaten auszuwählen, alle diese auf den *train*-Daten laufenzulassen und daraufhin zu überprüfen, welcher dieser Kandidaten auf den Test-Daten die genauesten Vorhersagen trifft.\n",
    "\n",
    "Im nachfolgenden Block wurden schon einige passende Algorithmen zusammengestellt, welche Sie nun nach der Reihe laufen lassen können!"
   ]
  },
  {
   "cell_type": "code",
   "execution_count": 245,
   "id": "0a7e49ab",
   "metadata": {},
   "outputs": [
    {
     "name": "stdout",
     "output_type": "stream",
     "text": [
      "Nearest Neighbors 0.79\n",
      "Stochastic Gradient Descent 0.76\n",
      "Linear SVM 0.75\n",
      "Gaussian Process 0.81\n",
      "Decision Tree 0.82\n",
      "Random Forest 0.81\n",
      "Neural Net 0.81\n",
      "Naive Bayes 0.78\n",
      "LDA 0.76\n"
     ]
    }
   ],
   "source": [
    "from sklearn.neural_network import MLPClassifier\n",
    "from sklearn.neighbors import KNeighborsClassifier\n",
    "from sklearn.linear_model import SGDClassifier\n",
    "from sklearn.svm import SVC\n",
    "from sklearn.gaussian_process import GaussianProcessClassifier\n",
    "from sklearn.tree import DecisionTreeClassifier\n",
    "from sklearn.ensemble import RandomForestClassifier\n",
    "from sklearn.naive_bayes import GaussianNB\n",
    "from sklearn.discriminant_analysis import LinearDiscriminantAnalysis\n",
    "\n",
    "algorithms = {\n",
    "    \"Nearest Neighbors\" : KNeighborsClassifier(3),\n",
    "    \"Stochastic Gradient Descent\" : SGDClassifier(),\n",
    "    \"Linear SVM\" : SVC(kernel=\"linear\", C=0.025),\n",
    "    \"Gaussian Process\" : GaussianProcessClassifier(1.0 * RBF(1.0)),\n",
    "    \"Decision Tree\" : DecisionTreeClassifier(max_depth=5),\n",
    "    \"Random Forest\" : RandomForestClassifier(max_depth=5, n_estimators=10, max_features=1),\n",
    "    \"Neural Net\" : MLPClassifier(alpha=1, max_iter=1000),\n",
    "    \"Naive Bayes\" : GaussianNB(),\n",
    "    \"LDA\" : LinearDiscriminantAnalysis(),\n",
    "}\n",
    "\n",
    "\n",
    "for name, algorithm in algorithms.items():\n",
    "    # 👾 TODO: Run each algorithm on X_train and y_train\n",
    "    # using the .fit function; then evaluate it using\n",
    "    # algorithm.score(X_test, y_test) and print the\n",
    "    # name and score for each algorithm - which one \n",
    "    # performs the best?\n",
    "    \n",
    "    # You might need to use y_train.values.ravel()\n",
    "    # rather than y_train in the fit()-function\n",
    "    algorithm.fit(X_train, y_train.values.ravel())\n",
    "\n",
    "    score = algorithm.score(X_test, y_test)\n",
    "    print(name, round(score,2))"
   ]
  },
  {
   "cell_type": "markdown",
   "id": "6f7ac39f",
   "metadata": {},
   "source": [
    "Wenn Sie den obigen Code-Block mehrfach ausführen, stellen Sie möglicherweise kleine Variationen fest: Das liegt daran, dass nicht alle Algorithmen deterministisch ablaufen, sondern zu einem kleinen Grad zufällig. Trotzdem sollte sich unser bereits bekannter Freund *Entscheidungsbaum* (und sein Artverwandter, der *Random Forest*) ziemlich weit oben in der Rangreihenfolge befinden. \n",
    "\n",
    "Was diese anderen Modelle bedeuten; was die Parameter wie Beispielsweise `MLPClassifier(alpha=1, max_iter=1000)` bedeuten und wie der `score` berechnet wird, darauf wird in späteren Aufträgen genauer eingegangen. Doch für's erste haben Sie den schwierigsten Teil geschafft! 👏 \n",
    "\n",
    "## Teil 6: Modell speichern\n",
    "\n",
    "Sehen Sie in der `LA_1650` und der [Dokumentation](https://scikit-learn.org/stable/modules/model_persistence.html) nach, wie Sie das beste Modell speichern und wieder laden, damit Sie es in Zukunft bereit haben, sollte wieder ein Atlantikdampfer einen Eisberg übersehen."
   ]
  },
  {
   "cell_type": "code",
   "execution_count": 246,
   "id": "a9ac28eb",
   "metadata": {},
   "outputs": [
    {
     "data": {
      "text/plain": [
       "RandomForestClassifier(max_depth=5, max_features=1, n_estimators=10)"
      ]
     },
     "execution_count": 246,
     "metadata": {},
     "output_type": "execute_result"
    }
   ],
   "source": [
    "# 👾 TODO: Save the best model with titanic_algorithm.joblib as\n",
    "# its filename, then load it again into the best_model variable. \n",
    "# Note: The trained model is saved in the appropriate entry in \n",
    "# the algorithms-dictionary\n",
    "\n",
    "import joblib\n",
    "joblib.dump(algorithms[\"Random Forest\"], 'titanic_random_forest.joblib')\n",
    "best_model = joblib.load('titanic_random_forest.joblib')\n",
    "best_model"
   ]
  },
  {
   "cell_type": "markdown",
   "id": "be3d8820",
   "metadata": {},
   "source": [
    "## Teil 7: Vorhersagen treffen\n",
    "\n",
    "Sie kennen vermutlich den 1997 Film über die Titanic - wenn nicht, planen Sie sich mittelfristig 2.5 Stunden Zeit ein für ein Stück Hollywood'scher Zeitgeschichte. Auf jeden Fall: In diesem Film besteigen Leonardo di Caprio und Kate Winslet die Titanic, verlieben sich und, nun ja, bleiben vom Untergang der Titanic nicht verschont.\n",
    "\n",
    "Fragen Sie Ihr Modell, wie warscheinlich es für die beiden jeweils ist, dass sie den Untergang überleben. Leonardo spielt einen 20-jährigen, der bei einem Pokerspiel eine Drittklass-Fahrkarte gewinnt (nehmen wir an mit einem Wert von 7.5 Pfund, was heute immerhin 850 CHF entspräche); Kate eine 17-jährige, welche erste Klasse (für angenommene 99.95 Pfund) fährt; im Schlepptau Ihre Mutter und Ihren Mann, den Sie mit Leonardo betrügt. Beide steigen in Southampton ein.\n",
    "\n",
    "⚠️ Denken Sie daran, dass Sie die gleichen Transformationen auf Ihre Daten anwenden müssen, die Sie für die *train*-Daten angewendet haben!"
   ]
  },
  {
   "cell_type": "code",
   "execution_count": 293,
   "id": "b20b84f3",
   "metadata": {},
   "outputs": [
    {
     "data": {
      "text/html": [
       "<div>\n",
       "<style scoped>\n",
       "    .dataframe tbody tr th:only-of-type {\n",
       "        vertical-align: middle;\n",
       "    }\n",
       "\n",
       "    .dataframe tbody tr th {\n",
       "        vertical-align: top;\n",
       "    }\n",
       "\n",
       "    .dataframe thead th {\n",
       "        text-align: right;\n",
       "    }\n",
       "</style>\n",
       "<table border=\"1\" class=\"dataframe\">\n",
       "  <thead>\n",
       "    <tr style=\"text-align: right;\">\n",
       "      <th></th>\n",
       "      <th>pclass</th>\n",
       "      <th>age</th>\n",
       "      <th>sex</th>\n",
       "      <th>fare</th>\n",
       "      <th>party_size</th>\n",
       "      <th>London</th>\n",
       "      <th>Queenstown</th>\n",
       "      <th>Southampton</th>\n",
       "    </tr>\n",
       "  </thead>\n",
       "  <tbody>\n",
       "    <tr>\n",
       "      <th>0</th>\n",
       "      <td>3</td>\n",
       "      <td>-0.519556</td>\n",
       "      <td>0</td>\n",
       "      <td>-0.493742</td>\n",
       "      <td>1</td>\n",
       "      <td>0</td>\n",
       "      <td>0</td>\n",
       "      <td>1</td>\n",
       "    </tr>\n",
       "    <tr>\n",
       "      <th>0</th>\n",
       "      <td>1</td>\n",
       "      <td>-0.737196</td>\n",
       "      <td>1</td>\n",
       "      <td>1.229547</td>\n",
       "      <td>3</td>\n",
       "      <td>0</td>\n",
       "      <td>0</td>\n",
       "      <td>1</td>\n",
       "    </tr>\n",
       "  </tbody>\n",
       "</table>\n",
       "</div>"
      ],
      "text/plain": [
       "   pclass       age  sex      fare  party_size  London  Queenstown  \\\n",
       "0       3 -0.519556    0 -0.493742           1       0           0   \n",
       "0       1 -0.737196    1  1.229547           3       0           0   \n",
       "\n",
       "   Southampton  \n",
       "0            1  \n",
       "0            1  "
      ]
     },
     "execution_count": 293,
     "metadata": {},
     "output_type": "execute_result"
    }
   ],
   "source": [
    "# 👾 TODO: Create a new dataframe with the appropriate values\n",
    "# Remember that our X-data has the following order:\n",
    "# pclass \tage \tsex \tfare \tparty_size \tLondon \tQueenstown \tSouthhampton\n",
    "# Then, use the standard_scaler and the scale()-function\n",
    "# defined above to scale your dataframe\n",
    "\n",
    "leo = pd.DataFrame([[3, 20, 0, 7.5, 1, 0, 0, 1]], columns=X_train.columns)\n",
    "leo = scale(leo, [\"age\", \"fare\"], standard_scaler)\n",
    "leo.head()\n",
    "\n",
    "kate = pd.DataFrame([[1, 17, 1, 99.95, 3, 0, 0, 1]], columns=X_train.columns)\n",
    "kate = scale(kate, [\"age\", \"fare\"], standard_scaler)\n",
    "kate.head()\n",
    "\n",
    "lovebirds_at_sea = pd.concat([leo, kate])\n",
    "lovebirds_at_sea.head()"
   ]
  },
  {
   "cell_type": "code",
   "execution_count": 309,
   "id": "f44f3a61",
   "metadata": {},
   "outputs": [
    {
     "name": "stdout",
     "output_type": "stream",
     "text": [
      "Leo stribt 😵\n",
      "Kate lebt 🥳\n"
     ]
    }
   ],
   "source": [
    "# 👾 TODO: finally, use the predict()-function\n",
    "# to see what would've happened to you. The return\n",
    "# value of the predict()-function is an array, of\n",
    "# which array[0] contains the classification:\n",
    "# 1 for survival, 0 for, well, not surviving\n",
    "\n",
    "predictions = best_model.predict(pd.concat([leo, kate]))\n",
    "for person, prediction in zip([\"Leo\", \"Kate\"], predictions):\n",
    "    print(f\"{person} {'stribt 😵' if prediction == 0  else 'lebt 🥳'}\")"
   ]
  },
  {
   "cell_type": "markdown",
   "id": "b44ef185",
   "metadata": {},
   "source": [
    "## Bonus-Etappe\n",
    "\n",
    "Sie bekommen beim Herumspielen sicher ein Gefühl dafür, dass gewisse Merkmale eine größe Auswirkung auf das Resultat haben als andere. Eine Möglichkeit, wissenschaftlich an die Frage heranzugehen, wie groß diese Auswirkung ist, ist die Folgende: Das Modell wird neu berechnet und gleich auf den Test-Daten geprüft, aber bei jedem Durchgang wird ein Merkmal (also einmal das Alter, einmal das Geschlecht etc.) weggelassen. Nun lässt sich herausfinden, wie die Leistung des Modells sinkt: Wird ein wichtiges Merkmal weggelassen, dann sinkt die Leistung beträchtlich; sinkt sie nur wenig, war das weggelassene Merkmal nicht wichtig. Diese Technik nennt sich *permutation importance*. Zum Glück müssen Sie das nicht von Hand tun, sondern können auf praktische Funktionen zurückgreifen!\n",
    "\n",
    "⚠️ Wenn gewisse Merkmale *abhängig* voneinander sind, das heisst, wenn sich das eine Merkmal gut durch das andere vorhersagen lässt, dann funktioniert die *permutation importance* weniger gut. In unserem Beispiel ist das Resultat also mit vorsicht zu genießen, weil vermutlich `pclass` und `fare` von einander abhängen - eine Fahrkarte erster Klasse ist teurer als eine dritter Klasse!"
   ]
  },
  {
   "cell_type": "code",
   "execution_count": 223,
   "id": "41335922",
   "metadata": {},
   "outputs": [
    {
     "data": {
      "text/plain": [
       "Text(0, 0.5, 'Mean decrease in impurity')"
      ]
     },
     "execution_count": 223,
     "metadata": {},
     "output_type": "execute_result"
    },
    {
     "data": {
      "image/png": "[encoded data removed]",
      "text/plain": [
       "<Figure size 432x288 with 1 Axes>"
      ]
     },
     "metadata": {
      "needs_background": "light"
     },
     "output_type": "display_data"
    }
   ],
   "source": [
    "import matplotlib.pyplot as plt\n",
    "from sklearn.inspection import permutation_importance\n",
    "\n",
    "result = permutation_importance(\n",
    "    best_model, X_test, y_test, n_repeats=10, random_state=42, n_jobs=2\n",
    ")\n",
    "\n",
    "forest_importances = pd.Series(result.importances_mean, index=X_train.columns)\n",
    "\n",
    "fig, ax = plt.subplots()\n",
    "forest_importances.plot.bar()\n",
    "ax.set_title(\"Feature importances\")\n",
    "ax.set_ylabel(\"Mean decrease in impurity\")"
   ]
  },
  {
   "cell_type": "code",
   "execution_count": null,
   "id": "45060bc5",
   "metadata": {},
   "outputs": [],
   "source": []
  }
 ],
 "metadata": {
  "kernelspec": {
   "display_name": "Python 3 (ipykernel)",
   "language": "python",
   "name": "python3"
  },
  "language_info": {
   "codemirror_mode": {
    "name": "ipython",
    "version": 3
   },
   "file_extension": ".py",
   "mimetype": "text/x-python",
   "name": "python",
   "nbconvert_exporter": "python",
   "pygments_lexer": "ipython3",
   "version": "3.9.10"
  }
 },
 "nbformat": 4,
 "nbformat_minor": 5
}
